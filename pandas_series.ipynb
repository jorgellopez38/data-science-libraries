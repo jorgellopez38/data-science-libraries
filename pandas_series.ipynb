{
 "cells": [
  {
   "cell_type": "code",
   "execution_count": 369,
   "id": "87a2822e",
   "metadata": {},
   "outputs": [],
   "source": [
    "import pandas as pd\n",
    "import numpy as np\n",
    "from pydataset import data\n",
    "\n",
    "\n",
    "\n",
    "\n",
    "\n",
    "\n",
    "\n",
    "\n",
    "\n",
    "\n"
   ]
  },
  {
   "cell_type": "code",
   "execution_count": 7,
   "id": "750a38f9",
   "metadata": {},
   "outputs": [],
   "source": [
    "new_list = [\"kiwi\", \"mango\", \"strawberry\", \"pineapple\", \"gala apple\", \"honeycrisp apple\", \"tomato\", \"watermelon\", \"honeydew\", \"kiwi\", \"kiwi\", \"kiwi\", \"mango\", \"blueberry\", \"blackberry\", \"gooseberry\", \"papaya\"]\n",
    "\n"
   ]
  },
  {
   "cell_type": "code",
   "execution_count": 8,
   "id": "3420bf81",
   "metadata": {},
   "outputs": [],
   "source": [
    "my_series = pd.Series(new_list)\n",
    "\n"
   ]
  },
  {
   "cell_type": "code",
   "execution_count": 9,
   "id": "94a755b3",
   "metadata": {},
   "outputs": [
    {
     "data": {
      "text/plain": [
       "0                 kiwi\n",
       "1                mango\n",
       "2           strawberry\n",
       "3            pineapple\n",
       "4           gala apple\n",
       "5     honeycrisp apple\n",
       "6               tomato\n",
       "7           watermelon\n",
       "8             honeydew\n",
       "9                 kiwi\n",
       "10                kiwi\n",
       "11                kiwi\n",
       "12               mango\n",
       "13           blueberry\n",
       "14          blackberry\n",
       "15          gooseberry\n",
       "16              papaya\n",
       "dtype: object"
      ]
     },
     "execution_count": 9,
     "metadata": {},
     "output_type": "execute_result"
    }
   ],
   "source": [
    "my_series\n",
    "\n"
   ]
  },
  {
   "cell_type": "code",
   "execution_count": 10,
   "id": "f27894f6",
   "metadata": {},
   "outputs": [
    {
     "data": {
      "text/plain": [
       "17"
      ]
     },
     "execution_count": 10,
     "metadata": {},
     "output_type": "execute_result"
    }
   ],
   "source": [
    "#Determine the number of elements in fruits\n",
    "my_series.size\n",
    "\n"
   ]
  },
  {
   "cell_type": "code",
   "execution_count": 11,
   "id": "2031646f",
   "metadata": {},
   "outputs": [
    {
     "data": {
      "text/plain": [
       "[0, 1, 2, 3, 4, 5, 6, 7, 8, 9, 10, 11, 12, 13, 14, 15, 16]"
      ]
     },
     "execution_count": 11,
     "metadata": {},
     "output_type": "execute_result"
    }
   ],
   "source": [
    "#Output only the index from fruits.\n",
    "\n",
    "list(my_series.index)\n",
    "\n"
   ]
  },
  {
   "cell_type": "code",
   "execution_count": 12,
   "id": "8c006057",
   "metadata": {},
   "outputs": [
    {
     "data": {
      "text/plain": [
       "['kiwi',\n",
       " 'mango',\n",
       " 'strawberry',\n",
       " 'pineapple',\n",
       " 'gala apple',\n",
       " 'honeycrisp apple',\n",
       " 'tomato',\n",
       " 'watermelon',\n",
       " 'honeydew',\n",
       " 'kiwi',\n",
       " 'kiwi',\n",
       " 'kiwi',\n",
       " 'mango',\n",
       " 'blueberry',\n",
       " 'blackberry',\n",
       " 'gooseberry',\n",
       " 'papaya']"
      ]
     },
     "execution_count": 12,
     "metadata": {},
     "output_type": "execute_result"
    }
   ],
   "source": [
    "#Output only the values from fruits.\n",
    "\n",
    "list(my_series.values)\n",
    "\n"
   ]
  },
  {
   "cell_type": "code",
   "execution_count": 13,
   "id": "accad65a",
   "metadata": {},
   "outputs": [
    {
     "data": {
      "text/plain": [
       "dtype('O')"
      ]
     },
     "execution_count": 13,
     "metadata": {},
     "output_type": "execute_result"
    }
   ],
   "source": [
    "#Confirm the data type of the values in fruits.\n",
    "\n",
    "my_series.dtype\n",
    "\n"
   ]
  },
  {
   "cell_type": "code",
   "execution_count": 14,
   "id": "993be787",
   "metadata": {},
   "outputs": [
    {
     "data": {
      "text/plain": [
       "0          kiwi\n",
       "1         mango\n",
       "2    strawberry\n",
       "3     pineapple\n",
       "4    gala apple\n",
       "dtype: object"
      ]
     },
     "execution_count": 14,
     "metadata": {},
     "output_type": "execute_result"
    }
   ],
   "source": [
    "#Output only the first five values from fruits. Output the last three values. Output two random values from fruits.\n",
    "\n",
    "my_series.head()\n"
   ]
  },
  {
   "cell_type": "code",
   "execution_count": 15,
   "id": "c4cd2dac",
   "metadata": {},
   "outputs": [
    {
     "data": {
      "text/plain": [
       "14    blackberry\n",
       "15    gooseberry\n",
       "16        papaya\n",
       "dtype: object"
      ]
     },
     "execution_count": 15,
     "metadata": {},
     "output_type": "execute_result"
    }
   ],
   "source": [
    "my_series.tail(3)\n",
    "\n"
   ]
  },
  {
   "cell_type": "code",
   "execution_count": 16,
   "id": "ae5888c9",
   "metadata": {},
   "outputs": [
    {
     "data": {
      "text/plain": [
       "13    blueberry\n",
       "8      honeydew\n",
       "dtype: object"
      ]
     },
     "execution_count": 16,
     "metadata": {},
     "output_type": "execute_result"
    }
   ],
   "source": [
    "my_series.sample(2)\n",
    "\n"
   ]
  },
  {
   "cell_type": "code",
   "execution_count": 41,
   "id": "090d0048",
   "metadata": {},
   "outputs": [
    {
     "data": {
      "text/plain": [
       "count       17\n",
       "unique      13\n",
       "top       kiwi\n",
       "freq         4\n",
       "dtype: object"
      ]
     },
     "execution_count": 41,
     "metadata": {},
     "output_type": "execute_result"
    }
   ],
   "source": [
    "#Run the .describe() on fruits to see what information it returns when called on a Series with string values.\n",
    "\n",
    "my_series.describe()\n",
    "\n"
   ]
  },
  {
   "cell_type": "code",
   "execution_count": 47,
   "id": "3b877ef2",
   "metadata": {},
   "outputs": [
    {
     "data": {
      "text/plain": [
       "array(['kiwi', 'mango', 'strawberry', 'pineapple', 'gala apple',\n",
       "       'honeycrisp apple', 'tomato', 'watermelon', 'honeydew',\n",
       "       'blueberry', 'blackberry', 'gooseberry', 'papaya'], dtype=object)"
      ]
     },
     "execution_count": 47,
     "metadata": {},
     "output_type": "execute_result"
    }
   ],
   "source": [
    "#Run the code necessary to produce only the unique string values from fruits.\n",
    "\n",
    "my_series.unique()\n",
    "\n"
   ]
  },
  {
   "cell_type": "code",
   "execution_count": 45,
   "id": "7ecefda5",
   "metadata": {},
   "outputs": [
    {
     "data": {
      "text/plain": [
       "kiwi                4\n",
       "mango               2\n",
       "strawberry          1\n",
       "pineapple           1\n",
       "gala apple          1\n",
       "honeycrisp apple    1\n",
       "tomato              1\n",
       "watermelon          1\n",
       "honeydew            1\n",
       "blueberry           1\n",
       "blackberry          1\n",
       "gooseberry          1\n",
       "papaya              1\n",
       "dtype: int64"
      ]
     },
     "execution_count": 45,
     "metadata": {},
     "output_type": "execute_result"
    }
   ],
   "source": [
    "#Determine how many times each unique string value occurs in fruits.\n",
    "\n",
    "my_series.value_counts()\n",
    "\n"
   ]
  },
  {
   "cell_type": "code",
   "execution_count": 53,
   "id": "5a6e9d81",
   "metadata": {},
   "outputs": [
    {
     "data": {
      "text/plain": [
       "kiwi    4\n",
       "dtype: int64"
      ]
     },
     "execution_count": 53,
     "metadata": {},
     "output_type": "execute_result"
    }
   ],
   "source": [
    "#Determine the string value that occurs most frequently in fruits.\n",
    "\n",
    "my_series.value_counts().nlargest(1)\n",
    "\n"
   ]
  },
  {
   "cell_type": "code",
   "execution_count": 55,
   "id": "331cbda2",
   "metadata": {},
   "outputs": [
    {
     "data": {
      "text/plain": [
       "strawberry          1\n",
       "pineapple           1\n",
       "gala apple          1\n",
       "honeycrisp apple    1\n",
       "tomato              1\n",
       "watermelon          1\n",
       "honeydew            1\n",
       "blueberry           1\n",
       "blackberry          1\n",
       "gooseberry          1\n",
       "papaya              1\n",
       "dtype: int64"
      ]
     },
     "execution_count": 55,
     "metadata": {},
     "output_type": "execute_result"
    }
   ],
   "source": [
    "#Determine the string value that occurs least frequently in fruits.\n",
    "\n",
    "my_series.value_counts().nsmallest(n=1, keep='all')\n",
    "\n",
    "\n"
   ]
  },
  {
   "cell_type": "code",
   "execution_count": 56,
   "id": "d91c74b4",
   "metadata": {},
   "outputs": [
    {
     "data": {
      "text/plain": [
       "0                 KIWI\n",
       "1                MANGO\n",
       "2           STRAWBERRY\n",
       "3            PINEAPPLE\n",
       "4           GALA APPLE\n",
       "5     HONEYCRISP APPLE\n",
       "6               TOMATO\n",
       "7           WATERMELON\n",
       "8             HONEYDEW\n",
       "9                 KIWI\n",
       "10                KIWI\n",
       "11                KIWI\n",
       "12               MANGO\n",
       "13           BLUEBERRY\n",
       "14          BLACKBERRY\n",
       "15          GOOSEBERRY\n",
       "16              PAPAYA\n",
       "dtype: object"
      ]
     },
     "execution_count": 56,
     "metadata": {},
     "output_type": "execute_result"
    }
   ],
   "source": [
    "#Capitalize all the string values in fruits.\n",
    "\n",
    "my_series.str.upper()\n",
    "\n"
   ]
  },
  {
   "cell_type": "code",
   "execution_count": 159,
   "id": "0afafdef",
   "metadata": {},
   "outputs": [
    {
     "data": {
      "text/plain": [
       "0     0\n",
       "1     1\n",
       "2     1\n",
       "3     1\n",
       "4     3\n",
       "5     1\n",
       "6     1\n",
       "7     1\n",
       "8     0\n",
       "9     0\n",
       "10    0\n",
       "11    0\n",
       "12    1\n",
       "13    0\n",
       "14    1\n",
       "15    0\n",
       "16    3\n",
       "dtype: int64"
      ]
     },
     "execution_count": 159,
     "metadata": {},
     "output_type": "execute_result"
    }
   ],
   "source": [
    "#Count the letter \"a\" in all the string values (use string vectorization).\n",
    "\n",
    "a_count = my_series.str.count('[a]')\n",
    "a_count"
   ]
  },
  {
   "cell_type": "code",
   "execution_count": 158,
   "id": "d6de16f0",
   "metadata": {},
   "outputs": [
    {
     "data": {
      "text/plain": [
       "0     2\n",
       "1     2\n",
       "2     3\n",
       "3     4\n",
       "4     4\n",
       "5     6\n",
       "6     3\n",
       "7     4\n",
       "8     4\n",
       "9     2\n",
       "10    2\n",
       "11    2\n",
       "12    2\n",
       "13    4\n",
       "14    3\n",
       "15    5\n",
       "16    4\n",
       "dtype: int64"
      ]
     },
     "execution_count": 158,
     "metadata": {},
     "output_type": "execute_result"
    }
   ],
   "source": [
    "#Output the number of vowels in each and every string value.\n",
    "\n",
    "vowel_counts = my_series.str.count('[aeiouy]')\n",
    "vowel_counts"
   ]
  },
  {
   "cell_type": "code",
   "execution_count": 150,
   "id": "a7f7e0f2",
   "metadata": {},
   "outputs": [
    {
     "data": {
      "text/plain": [
       "5    16\n",
       "dtype: int64"
      ]
     },
     "execution_count": 150,
     "metadata": {},
     "output_type": "execute_result"
    }
   ],
   "source": [
    "#Write the code to get the longest string value from fruits.\n",
    "\n",
    "my_series.str.len().nlargest(1)\n",
    "\n"
   ]
  },
  {
   "cell_type": "code",
   "execution_count": 134,
   "id": "d5c2369d",
   "metadata": {},
   "outputs": [
    {
     "data": {
      "text/plain": [
       "1                mango\n",
       "2           strawberry\n",
       "3            pineapple\n",
       "4           gala apple\n",
       "5     honeycrisp apple\n",
       "6               tomato\n",
       "7           watermelon\n",
       "8             honeydew\n",
       "12               mango\n",
       "13           blueberry\n",
       "14          blackberry\n",
       "15          gooseberry\n",
       "16              papaya\n",
       "dtype: object"
      ]
     },
     "execution_count": 134,
     "metadata": {},
     "output_type": "execute_result"
    }
   ],
   "source": [
    "#Write the code to get the string values with 5 or more letters in the name.\n",
    "\n",
    "my_series[my_series.str.len() > 4]\n",
    "\n"
   ]
  },
  {
   "cell_type": "code",
   "execution_count": 121,
   "id": "e3aabfaf",
   "metadata": {},
   "outputs": [
    {
     "data": {
      "text/plain": [
       "6         tomato\n",
       "15    gooseberry\n",
       "dtype: object"
      ]
     },
     "execution_count": 121,
     "metadata": {},
     "output_type": "execute_result"
    }
   ],
   "source": [
    "#Find the fruit(s) containing the letter \"o\" two or more times.\n",
    "\n",
    "\n",
    "\n",
    "my_series[my_series.str.count('o') > 1]"
   ]
  },
  {
   "cell_type": "code",
   "execution_count": 161,
   "id": "7e69e7df",
   "metadata": {},
   "outputs": [
    {
     "data": {
      "text/plain": [
       "2     strawberry\n",
       "13     blueberry\n",
       "14    blackberry\n",
       "15    gooseberry\n",
       "dtype: object"
      ]
     },
     "execution_count": 161,
     "metadata": {},
     "output_type": "execute_result"
    }
   ],
   "source": [
    "#Write the code to get only the string values containing the substring \"berry\".\n",
    "\n",
    "my_series[my_series.str.contains(\"berry\")]"
   ]
  },
  {
   "cell_type": "code",
   "execution_count": 71,
   "id": "5824ffd5",
   "metadata": {},
   "outputs": [
    {
     "data": {
      "text/plain": [
       "3           pineapple\n",
       "4          gala apple\n",
       "5    honeycrisp apple\n",
       "dtype: object"
      ]
     },
     "execution_count": 71,
     "metadata": {},
     "output_type": "execute_result"
    }
   ],
   "source": [
    "#Write the code to get only the string values containing the substring \"apple\".\n",
    "\n",
    "my_series[my_series.str.contains(\"apple\")]"
   ]
  },
  {
   "cell_type": "code",
   "execution_count": 165,
   "id": "22f21021",
   "metadata": {},
   "outputs": [
    {
     "data": {
      "text/plain": [
       "5    6\n",
       "dtype: int64"
      ]
     },
     "execution_count": 165,
     "metadata": {},
     "output_type": "execute_result"
    }
   ],
   "source": [
    "#Which string value contains the most vowels?\n",
    "\n",
    "max_vowel_counts = my_series.str.count('[aeiouy]').nlargest(1)\n",
    "max_vowel_counts\n"
   ]
  },
  {
   "cell_type": "code",
   "execution_count": 224,
   "id": "b7d9cad0",
   "metadata": {},
   "outputs": [
    {
     "data": {
      "text/plain": [
       "str"
      ]
     },
     "execution_count": 224,
     "metadata": {},
     "output_type": "execute_result"
    }
   ],
   "source": [
    "part_3_string = 'hnvidduckkqxwymbimkccexbkmqygkxoyndmcxnwqarhyffsjpsrabtjzsypmzadfavyrnndndvswreauxovncxtwzpwejilzjrmmbbgbyxvjtewqthafnbkqplarokkyydtubbmnexoypulzwfhqvckdpqtpoppzqrmcvhhpwgjwupgzhiofohawytlsiyecuproguy'\n",
    "\n",
    "\n",
    "type(part_3_string)\n"
   ]
  },
  {
   "cell_type": "code",
   "execution_count": 232,
   "id": "cad2cb14",
   "metadata": {},
   "outputs": [
    {
     "data": {
      "text/plain": [
       "0      h\n",
       "1      n\n",
       "2      v\n",
       "3      i\n",
       "4      d\n",
       "      ..\n",
       "195    r\n",
       "196    o\n",
       "197    g\n",
       "198    u\n",
       "199    y\n",
       "Length: 200, dtype: object"
      ]
     },
     "execution_count": 232,
     "metadata": {},
     "output_type": "execute_result"
    }
   ],
   "source": [
    "letters = pd.Series(list(part_3_string))\n",
    "letters"
   ]
  },
  {
   "cell_type": "code",
   "execution_count": 267,
   "id": "746f2fa0",
   "metadata": {},
   "outputs": [
    {
     "data": {
      "text/plain": [
       "y    13\n",
       "p    12\n",
       "w    10\n",
       "b     9\n",
       "n     9\n",
       "k     9\n",
       "dtype: int64"
      ]
     },
     "execution_count": 267,
     "metadata": {},
     "output_type": "execute_result"
    }
   ],
   "source": [
    "#Which letter occurs the most frequently in the letters Series?\n",
    "\n",
    "letters.value_counts().sort_values(ascending=False).nlargest(6)\n",
    "\n"
   ]
  },
  {
   "cell_type": "code",
   "execution_count": 256,
   "id": "2280cedc",
   "metadata": {},
   "outputs": [
    {
     "data": {
      "text/plain": [
       "l    4\n",
       "dtype: int64"
      ]
     },
     "execution_count": 256,
     "metadata": {},
     "output_type": "execute_result"
    }
   ],
   "source": [
    "#Which letter occurs the Least frequently?\n",
    "\n",
    "letters.value_counts().sort_values(ascending=True).nsmallest(1)"
   ]
  },
  {
   "cell_type": "code",
   "execution_count": 259,
   "id": "fbcdc679",
   "metadata": {},
   "outputs": [
    {
     "data": {
      "text/plain": [
       "34"
      ]
     },
     "execution_count": 259,
     "metadata": {},
     "output_type": "execute_result"
    }
   ],
   "source": [
    "#How many vowels are in the Series?\n",
    "\n",
    "letters.str.lower().str.count('[aeiou]').sum()"
   ]
  },
  {
   "cell_type": "code",
   "execution_count": 261,
   "id": "1f509069",
   "metadata": {},
   "outputs": [
    {
     "data": {
      "text/plain": [
       "166"
      ]
     },
     "execution_count": 261,
     "metadata": {},
     "output_type": "execute_result"
    }
   ],
   "source": [
    "#How many consonants are in the Series?\n",
    "\n",
    "letters.str.lower().str.count('[^aeiou]').sum()"
   ]
  },
  {
   "cell_type": "code",
   "execution_count": 266,
   "id": "37557d72",
   "metadata": {},
   "outputs": [
    {
     "data": {
      "text/plain": [
       "0      H\n",
       "1      N\n",
       "2      V\n",
       "3      I\n",
       "4      D\n",
       "      ..\n",
       "195    R\n",
       "196    O\n",
       "197    G\n",
       "198    U\n",
       "199    Y\n",
       "Length: 200, dtype: object"
      ]
     },
     "execution_count": 266,
     "metadata": {},
     "output_type": "execute_result"
    }
   ],
   "source": [
    "#Create a Series that has all of the same letters but uppercased.\n",
    "\n",
    "upper_letters = letters.str.upper()\n",
    "\n",
    "upper_letters"
   ]
  },
  {
   "cell_type": "code",
   "execution_count": 280,
   "id": "6cb3bcad",
   "metadata": {},
   "outputs": [
    {
     "data": {
      "text/plain": [
       "[Text(0.5, 0, 'Letter'), Text(0, 0.5, 'Frequency')]"
      ]
     },
     "execution_count": 280,
     "metadata": {},
     "output_type": "execute_result"
    },
    {
     "data": {
      "image/png": "[encoded data removed]",
      "text/plain": [
       "<Figure size 640x480 with 1 Axes>"
      ]
     },
     "metadata": {},
     "output_type": "display_data"
    }
   ],
   "source": [
    "#Create a bar plot of the frequencies of the 6 most commonly occuring letters.\n",
    "\n",
    "(\n",
    "    letters.value_counts().head(6).plot.bar(title='Top 6 Reoccuring Letters', \n",
    "                            rot=0, \n",
    "                            color='blue', \n",
    "                            ec='black',\n",
    "                            width=.75).set(xlabel='Letter',\n",
    "                            ylabel='Frequency')\n",
    ")\n",
    "\n"
   ]
  },
  {
   "cell_type": "code",
   "execution_count": 303,
   "id": "424aee41",
   "metadata": {},
   "outputs": [],
   "source": [
    "number_string = ['$796,459.41', '$278.60', '$482,571.67', '$4,503,915.98', '$2,121,418.3', '$1,260,813.3', '$87,231.01', '$1,509,175.45', '$4,138,548.00', '$2,848,913.80', '$594,715.39', '$4,789,988.17', '$4,513,644.5', '$3,191,059.97', '$1,758,712.24', '$4,338,283.54', '$4,738,303.38', '$2,791,759.67', '$769,681.94', '$452,650.23']\n"
   ]
  },
  {
   "cell_type": "code",
   "execution_count": 304,
   "id": "32380a08",
   "metadata": {},
   "outputs": [
    {
     "data": {
      "text/plain": [
       "0       $796,459.41\n",
       "1           $278.60\n",
       "2       $482,571.67\n",
       "3     $4,503,915.98\n",
       "4      $2,121,418.3\n",
       "5      $1,260,813.3\n",
       "6        $87,231.01\n",
       "7     $1,509,175.45\n",
       "8     $4,138,548.00\n",
       "9     $2,848,913.80\n",
       "10      $594,715.39\n",
       "11    $4,789,988.17\n",
       "12     $4,513,644.5\n",
       "13    $3,191,059.97\n",
       "14    $1,758,712.24\n",
       "15    $4,338,283.54\n",
       "16    $4,738,303.38\n",
       "17    $2,791,759.67\n",
       "18      $769,681.94\n",
       "19      $452,650.23\n",
       "dtype: object"
      ]
     },
     "execution_count": 304,
     "metadata": {},
     "output_type": "execute_result"
    }
   ],
   "source": [
    "numbers = pd.Series(number_string)\n",
    "numbers "
   ]
  },
  {
   "cell_type": "code",
   "execution_count": 305,
   "id": "62abb1d7",
   "metadata": {},
   "outputs": [
    {
     "data": {
      "text/plain": [
       "dtype('O')"
      ]
     },
     "execution_count": 305,
     "metadata": {},
     "output_type": "execute_result"
    }
   ],
   "source": [
    "#What is the data type of the numbers Series?\n",
    "\n",
    "numbers.dtype"
   ]
  },
  {
   "cell_type": "code",
   "execution_count": 356,
   "id": "759fffe2",
   "metadata": {},
   "outputs": [
    {
     "data": {
      "text/plain": [
       "(20,)"
      ]
     },
     "execution_count": 356,
     "metadata": {},
     "output_type": "execute_result"
    }
   ],
   "source": [
    "#How many elements are in the number Series?\n",
    "\n",
    "numbers.shape"
   ]
  },
  {
   "cell_type": "code",
   "execution_count": 359,
   "id": "1bba9361",
   "metadata": {},
   "outputs": [
    {
     "name": "stderr",
     "output_type": "stream",
     "text": [
      "/var/folders/9q/slnrpghs0r78mkz6d7_q_hj40000gp/T/ipykernel_3902/1870385002.py:4: FutureWarning: The default value of regex will change from True to False in a future version. In addition, single character regular expressions will *not* be treated as literal strings when regex=True.\n",
      "  float_numbers = numbers.str.replace('$', '').str.replace(',', '').astype('float')\n"
     ]
    },
    {
     "data": {
      "text/plain": [
       "0      796459.41\n",
       "1         278.60\n",
       "2      482571.67\n",
       "3     4503915.98\n",
       "4     2121418.30\n",
       "5     1260813.30\n",
       "6       87231.01\n",
       "7     1509175.45\n",
       "8     4138548.00\n",
       "9     2848913.80\n",
       "10     594715.39\n",
       "11    4789988.17\n",
       "12    4513644.50\n",
       "13    3191059.97\n",
       "14    1758712.24\n",
       "15    4338283.54\n",
       "16    4738303.38\n",
       "17    2791759.67\n",
       "18     769681.94\n",
       "19     452650.23\n",
       "dtype: float64"
      ]
     },
     "execution_count": 359,
     "metadata": {},
     "output_type": "execute_result"
    }
   ],
   "source": [
    "#Perform the necessary manipulations by accessing Series attributes and methods to convert the numbers \n",
    "#Series to a numeric data type.\n",
    "\n",
    "float_numbers = numbers.str.replace('$', '').str.replace(',', '').astype('float')\n",
    "float_numbers"
   ]
  },
  {
   "cell_type": "code",
   "execution_count": 362,
   "id": "b91eac42",
   "metadata": {},
   "outputs": [
    {
     "data": {
      "text/plain": [
       "4789988.17"
      ]
     },
     "execution_count": 362,
     "metadata": {},
     "output_type": "execute_result"
    }
   ],
   "source": [
    "#Run the code to discover the maximum value from the Series.\n",
    "\n",
    "float_numbers.max()"
   ]
  },
  {
   "cell_type": "code",
   "execution_count": 363,
   "id": "fc75aed3",
   "metadata": {},
   "outputs": [
    {
     "data": {
      "text/plain": [
       "278.6"
      ]
     },
     "execution_count": 363,
     "metadata": {},
     "output_type": "execute_result"
    }
   ],
   "source": [
    "#Run the code to discover the minimum value from the Series.\n",
    "\n",
    "float_numbers.min()"
   ]
  },
  {
   "cell_type": "markdown",
   "id": "027fcac3",
   "metadata": {},
   "source": [
    "\n",
    "\n"
   ]
  },
  {
   "cell_type": "code",
   "execution_count": 376,
   "id": "8ddca9f0",
   "metadata": {},
   "outputs": [
    {
     "data": {
      "text/plain": [
       "4789709.57"
      ]
     },
     "execution_count": 376,
     "metadata": {},
     "output_type": "execute_result"
    }
   ],
   "source": [
    "#What is the range of the values in the Series?\n",
    "\n",
    "float_numbers.max() - float_numbers.min()"
   ]
  },
  {
   "cell_type": "code",
   "execution_count": 379,
   "id": "949aa604",
   "metadata": {},
   "outputs": [
    {
     "data": {
      "text/plain": [
       "(-4511.11, 1197705.993]       7\n",
       "(3592560.778, 4789988.17]     6\n",
       "(1197705.993, 2395133.385]    4\n",
       "(2395133.385, 3592560.778]    3\n",
       "dtype: int64"
      ]
     },
     "execution_count": 379,
     "metadata": {},
     "output_type": "execute_result"
    }
   ],
   "source": [
    "#Bin the data into 4 equally sized intervals or bins and output how many values fall into each bin.\n",
    "\n",
    "float_numbers_bins = pd.cut(float_numbers, bins = 4)\n",
    "float_numbers_bins.value_counts()"
   ]
  },
  {
   "cell_type": "code",
   "execution_count": 386,
   "id": "86c9d5d0",
   "metadata": {},
   "outputs": [
    {
     "data": {
      "text/plain": [
       "[Text(0.5, 0, 'BINS'), Text(0, 0.5, 'VALUE COUNT')]"
      ]
     },
     "execution_count": 386,
     "metadata": {},
     "output_type": "execute_result"
    },
    {
     "data": {
      "image/png": "[encoded data removed]",
      "text/plain": [
       "<Figure size 640x480 with 1 Axes>"
      ]
     },
     "metadata": {},
     "output_type": "display_data"
    }
   ],
   "source": [
    "#Plot the binned data in a meaningful way. Be sure to include a title and axis labels.\n",
    "\n",
    "(\n",
    "    float_numbers_bins.value_counts().head(4).plot.bar(title='4 BIN DIN', \n",
    "                            rot=15, \n",
    "                            color='purple', \n",
    "                            ec='black',\n",
    "                            width=.80).set(xlabel='BINS',\n",
    "                            ylabel='VALUE COUNT')\n",
    ")\n",
    "\n"
   ]
  },
  {
   "cell_type": "code",
   "execution_count": 387,
   "id": "c40d06c6",
   "metadata": {},
   "outputs": [],
   "source": [
    "#Use pandas to create a Series named exam_scores from the following list:\n",
    "\n",
    "exam_list = [60, 86, 75, 62, 93, 71, 60, 83, 95, 78, 65, 72, 69, 81, 96, 80, 85, 92, 82, 78]"
   ]
  },
  {
   "cell_type": "code",
   "execution_count": 388,
   "id": "18dbc9f1",
   "metadata": {},
   "outputs": [],
   "source": [
    "exam_scores = pd.Series(exam_list)"
   ]
  },
  {
   "cell_type": "code",
   "execution_count": 389,
   "id": "b6a9d2eb",
   "metadata": {},
   "outputs": [
    {
     "data": {
      "text/plain": [
       "0     60\n",
       "1     86\n",
       "2     75\n",
       "3     62\n",
       "4     93\n",
       "5     71\n",
       "6     60\n",
       "7     83\n",
       "8     95\n",
       "9     78\n",
       "10    65\n",
       "11    72\n",
       "12    69\n",
       "13    81\n",
       "14    96\n",
       "15    80\n",
       "16    85\n",
       "17    92\n",
       "18    82\n",
       "19    78\n",
       "dtype: int64"
      ]
     },
     "execution_count": 389,
     "metadata": {},
     "output_type": "execute_result"
    }
   ],
   "source": [
    "exam_scores"
   ]
  },
  {
   "cell_type": "code",
   "execution_count": 390,
   "id": "8082cbf6",
   "metadata": {},
   "outputs": [
    {
     "data": {
      "text/plain": [
       "(20,)"
      ]
     },
     "execution_count": 390,
     "metadata": {},
     "output_type": "execute_result"
    }
   ],
   "source": [
    "#How many elements are in the exam_scores Series?\n",
    "\n",
    "exam_scores.shape"
   ]
  },
  {
   "cell_type": "code",
   "execution_count": 394,
   "id": "da95ba9f",
   "metadata": {},
   "outputs": [
    {
     "data": {
      "text/plain": [
       "(60, 96, 78.15, 79.0)"
      ]
     },
     "execution_count": 394,
     "metadata": {},
     "output_type": "execute_result"
    }
   ],
   "source": [
    "#Run the code to discover the minimum, the maximum, the mean, and the median scores for the exam_scores Series.\n",
    "\n",
    "\n",
    "exam_scores.min(), exam_scores.max(), exam_scores.mean(), exam_scores.median()"
   ]
  },
  {
   "cell_type": "code",
   "execution_count": 400,
   "id": "2bcc2708",
   "metadata": {},
   "outputs": [
    {
     "data": {
      "text/plain": [
       "[Text(0.5, 0, 'SCORE'), Text(0, 0.5, '# OF STUDENTS')]"
      ]
     },
     "execution_count": 400,
     "metadata": {},
     "output_type": "execute_result"
    },
    {
     "data": {
      "image/png": "[encoded data removed]",
      "text/plain": [
       "<Figure size 640x480 with 1 Axes>"
      ]
     },
     "metadata": {},
     "output_type": "display_data"
    }
   ],
   "source": [
    "#Plot the Series in a meaningful way and make sure your chart has a title and axis labels.\n",
    "(\n",
    "exam_scores.plot.hist(title='EXAM SCORES', color ='purple', \n",
    "                           ec='black',).set(xlabel='SCORE', \n",
    "                                    ylabel='# OF STUDENTS')\n",
    ")\n",
    "\n",
    "#(\n",
    "#    float_numbers_bins.value_counts().head(4).plot.bar(title='4 BIN DIN', \n",
    "#                           rot=15, \n",
    "#                            color='purple', \n",
    "#                            ec='black',\n",
    "#                            width=.80).set(xlabel='BINS',\n",
    "#                            ylabel='VALUE COUNT')\n",
    "#)\n"
   ]
  },
  {
   "cell_type": "code",
   "execution_count": 403,
   "id": "5456958a",
   "metadata": {},
   "outputs": [
    {
     "data": {
      "text/plain": [
       "0      64\n",
       "1      90\n",
       "2      79\n",
       "3      66\n",
       "4      97\n",
       "5      75\n",
       "6      64\n",
       "7      87\n",
       "8      99\n",
       "9      82\n",
       "10     69\n",
       "11     76\n",
       "12     73\n",
       "13     85\n",
       "14    100\n",
       "15     84\n",
       "16     89\n",
       "17     96\n",
       "18     86\n",
       "19     82\n",
       "dtype: int64"
      ]
     },
     "execution_count": 403,
     "metadata": {},
     "output_type": "execute_result"
    }
   ],
   "source": [
    "#Write the code necessary to implement a curve for your exam_grades Series and save this as curved_grades. \n",
    "#Add the necessary points to the highest grade to make it 100, and add the same number of points to every \n",
    "#other score in the Series as well.\n",
    "\n",
    "highest_grade = exam_scores.max()\n",
    "curve_difference = 100 - highest_grade\n",
    "curve_calc = curve_difference + exam_scores\n",
    "\n",
    "\n",
    "curve_calc"
   ]
  },
  {
   "cell_type": "code",
   "execution_count": 421,
   "id": "84a13b54",
   "metadata": {},
   "outputs": [
    {
     "data": {
      "text/plain": [
       "0     D\n",
       "1     A\n",
       "2     C\n",
       "3     D\n",
       "4     A\n",
       "5     C\n",
       "6     D\n",
       "7     B\n",
       "8     A\n",
       "9     B\n",
       "10    D\n",
       "11    C\n",
       "12    D\n",
       "13    B\n",
       "14    A\n",
       "15    B\n",
       "16    B\n",
       "17    A\n",
       "18    B\n",
       "19    B\n",
       "dtype: category\n",
       "Categories (5, object): ['F' < 'D' < 'C' < 'B' < 'A']"
      ]
     },
     "execution_count": 421,
     "metadata": {},
     "output_type": "execute_result"
    }
   ],
   "source": [
    "#Use a method to convert each of the numeric values in the curved_grades Series into a categorical value \n",
    "#of letter grades. For example, 86 should be a 'B' and 95 should be an 'A'. Save this as a Series \n",
    "#named letter_grades.\n",
    "\n",
    "\n",
    "# Define bin edges.\n",
    "bin_edges = [0, 59, 74, 79, 89, 101]\n",
    "\n",
    "# Create a list of bin labels; you should have one less than bin edges.\n",
    "bin_labels = ['F', 'D', 'C', 'B', 'A']\n",
    "\n",
    "# Use the .cut() function to create 5 bins as defined and label.\n",
    "letter_grades = pd.cut(curve_calc, bins=bin_edges, labels=bin_labels)\n",
    "letter_grades\n",
    "\n"
   ]
  },
  {
   "cell_type": "code",
   "execution_count": 428,
   "id": "8de1a417",
   "metadata": {},
   "outputs": [
    {
     "data": {
      "text/plain": [
       "[Text(0.5, 0, 'SCORE'), Text(0, 0.5, '# OF STUDENTS')]"
      ]
     },
     "execution_count": 428,
     "metadata": {},
     "output_type": "execute_result"
    },
    {
     "data": {
      "image/png": "[encoded data removed]",
      "text/plain": [
       "<Figure size 640x480 with 1 Axes>"
      ]
     },
     "metadata": {},
     "output_type": "display_data"
    }
   ],
   "source": [
    "#Plot your new categorical letter_grades Series in a meaninful way and include a title and axis labels.\n",
    "(\n",
    "letter_grades.value_counts().plot.bar(title='CURVED EXAM SCORES', rot=0, color ='BLACK', \n",
    "                           ec='black',).set(xlabel='SCORE', \n",
    "                                    ylabel='# OF STUDENTS')\n",
    ")\n",
    "\n",
    "#(\n",
    "#    float_numbers_bins.value_counts().head(4).plot.bar(title='4 BIN DIN', \n",
    "#                           rot=15, \n",
    "#                            color='purple', \n",
    "#                            ec='black',\n",
    "#                            width=.80).set(xlabel='BINS',\n",
    "#                            ylabel='VALUE COUNT')\n",
    "#)\n"
   ]
  },
  {
   "cell_type": "code",
   "execution_count": null,
   "id": "6f991225",
   "metadata": {},
   "outputs": [],
   "source": []
  }
 ],
 "metadata": {
  "kernelspec": {
   "display_name": "Python 3 (ipykernel)",
   "language": "python",
   "name": "python3"
  },
  "language_info": {
   "codemirror_mode": {
    "name": "ipython",
    "version": 3
   },
   "file_extension": ".py",
   "mimetype": "text/x-python",
   "name": "python",
   "nbconvert_exporter": "python",
   "pygments_lexer": "ipython3",
   "version": "3.9.13"
  }
 },
 "nbformat": 4,
 "nbformat_minor": 5
}
